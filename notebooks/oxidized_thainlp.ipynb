{
 "cells": [
  {
   "cell_type": "markdown",
   "metadata": {
    "id": "1dUnwVxgISWq"
   },
   "source": [
    "# oxidized-thainlp\n",
    "\n",
    "Thai Natural Language Processing in Rust, with Python-binding.\n",
    "\n",
    "## Features\n",
    "- newmm dictionary-based word tokenization, at ultra fast speed\n",
    "- support custom dictionary\n",
    "\n",
    "GitHub: https://github.com/PyThaiNLP/oxidized-thainlp"
   ]
  },
  {
   "cell_type": "markdown",
   "metadata": {
    "id": "NBfhmYbiIboQ"
   },
   "source": [
    "## Install"
   ]
  },
  {
   "cell_type": "code",
   "execution_count": 1,
   "metadata": {
    "colab": {
     "base_uri": "https://localhost:8080/"
    },
    "id": "97rhSDE8IG8X",
    "outputId": "04523717-c31a-4f41-cd40-9e3e7e7c7628"
   },
   "outputs": [
    {
     "name": "stdout",
     "output_type": "stream",
     "text": [
      "Collecting pythainlp-rust-modules\n",
      "\u001b[?25l  Downloading https://files.pythonhosted.org/packages/fb/1e/c82c805853e38a0e76d7194116e2f47c494b1147ddc9af568cc182ffcb5c/pythainlp_rust_modules-0.2.0-cp37-cp37m-manylinux_2_5_x86_64.manylinux1_x86_64.whl (947kB)\n",
      "\u001b[K     |████████████████████████████████| 952kB 6.8MB/s \n",
      "\u001b[?25hInstalling collected packages: pythainlp-rust-modules\n",
      "Successfully installed pythainlp-rust-modules-0.2.0\n"
     ]
    }
   ],
   "source": [
    "!pip install pythainlp-rust-modules"
   ]
  },
  {
   "cell_type": "markdown",
   "metadata": {
    "id": "qgAabbuvIdS8"
   },
   "source": [
    "## Using"
   ]
  },
  {
   "cell_type": "markdown",
   "metadata": {
    "id": "zp1hmAJ6I0a2"
   },
   "source": [
    "### PyThaiNLP dictionary\n",
    "\n"
   ]
  },
  {
   "cell_type": "code",
   "execution_count": 2,
   "metadata": {
    "id": "4_v-LpBbIKN9"
   },
   "outputs": [],
   "source": [
    "from oxidized_thainlp import segment"
   ]
  },
  {
   "cell_type": "code",
   "execution_count": 3,
   "metadata": {
    "colab": {
     "base_uri": "https://localhost:8080/"
    },
    "id": "ihpxBQvtIgqJ",
    "outputId": "31a01e32-fac7-4f8c-d0ad-f197f035a850"
   },
   "outputs": [
    {
     "data": {
      "text/plain": [
       "['ทดสอบ', 'ตัด', 'คำ', 'ภาษาไทย']"
      ]
     },
     "execution_count": 3,
     "metadata": {
      "tags": []
     },
     "output_type": "execute_result"
    }
   ],
   "source": [
    "segment(\"ทดสอบตัดคำภาษาไทย\")"
   ]
  },
  {
   "cell_type": "markdown",
   "metadata": {
    "id": "b_O9xI5fI96A"
   },
   "source": [
    "### custom dictionary\n",
    "\n",
    "We try to use a thai countries dictionary for segment text."
   ]
  },
  {
   "cell_type": "code",
   "execution_count": 4,
   "metadata": {
    "colab": {
     "base_uri": "https://localhost:8080/"
    },
    "id": "rRMh4bXxJDRg",
    "outputId": "21a142e7-7aa1-4a99-b341-31a1535a3928"
   },
   "outputs": [
    {
     "name": "stdout",
     "output_type": "stream",
     "text": [
      "--2021-06-22 05:14:58--  https://github.com/PyThaiNLP/pythainlp/raw/dev/pythainlp/corpus/countries_th.txt\n",
      "Resolving github.com (github.com)... 140.82.112.4\n",
      "Connecting to github.com (github.com)|140.82.112.4|:443... connected.\n",
      "HTTP request sent, awaiting response... 302 Found\n",
      "Location: https://raw.githubusercontent.com/PyThaiNLP/pythainlp/dev/pythainlp/corpus/countries_th.txt [following]\n",
      "--2021-06-22 05:14:58--  https://raw.githubusercontent.com/PyThaiNLP/pythainlp/dev/pythainlp/corpus/countries_th.txt\n",
      "Resolving raw.githubusercontent.com (raw.githubusercontent.com)... 185.199.108.133, 185.199.109.133, 185.199.110.133, ...\n",
      "Connecting to raw.githubusercontent.com (raw.githubusercontent.com)|185.199.108.133|:443... connected.\n",
      "HTTP request sent, awaiting response... 200 OK\n",
      "Length: 7622 (7.4K) [text/plain]\n",
      "Saving to: ‘countries_th.txt’\n",
      "\n",
      "countries_th.txt    100%[===================>]   7.44K  --.-KB/s    in 0s      \n",
      "\n",
      "2021-06-22 05:14:58 (70.3 MB/s) - ‘countries_th.txt’ saved [7622/7622]\n",
      "\n"
     ]
    }
   ],
   "source": [
    "!wget https://github.com/PyThaiNLP/pythainlp/raw/dev/pythainlp/corpus/countries_th.txt"
   ]
  },
  {
   "cell_type": "code",
   "execution_count": 5,
   "metadata": {
    "id": "-DT_WnJeIk6q"
   },
   "outputs": [],
   "source": [
    "from oxidized_thainlp import segment, load_dict"
   ]
  },
  {
   "cell_type": "code",
   "execution_count": 9,
   "metadata": {
    "colab": {
     "base_uri": "https://localhost:8080/"
    },
    "id": "3Sv0hrNVJOFA",
    "outputId": "97f6c5a2-3402-47f1-b568-b92b95654bc8"
   },
   "outputs": [
    {
     "name": "stdout",
     "output_type": "stream",
     "text": [
      "Successful: dictionary name countries from file countries_th.txt has been successfully loaded\n"
     ]
    }
   ],
   "source": [
    "load_dict(\"countries_th.txt\", \"countries\")"
   ]
  },
  {
   "cell_type": "code",
   "execution_count": 11,
   "metadata": {
    "colab": {
     "base_uri": "https://localhost:8080/"
    },
    "id": "N_Ni-39BJR5Q",
    "outputId": "03e69197-6871-4257-ae35-e1949733cc63"
   },
   "outputs": [
    {
     "data": {
      "text/plain": [
       "['สวัสดีครับประเทศ', 'ไทย', ' ', 'เกาหลี']"
      ]
     },
     "execution_count": 11,
     "metadata": {
      "tags": []
     },
     "output_type": "execute_result"
    }
   ],
   "source": [
    "segment(\"สวัสดีครับประเทศไทย เกาหลี\", \"countries\")"
   ]
  },
  {
   "cell_type": "markdown",
   "metadata": {
    "id": "8Ng4h-gkLsQK"
   },
   "source": [
    "for speed of word segmentation benchmark, you can read more at https://github.com/PyThaiNLP/oxidized-thainlp/tree/main/notebooks"
   ]
  }
 ],
 "metadata": {
  "colab": {
   "collapsed_sections": [],
   "name": "oxidized-thainlp.ipynb",
   "provenance": []
  },
  "kernelspec": {
   "display_name": "Python 3",
   "name": "python3"
  },
  "language_info": {
   "name": "python"
  }
 },
 "nbformat": 4,
 "nbformat_minor": 0
}
