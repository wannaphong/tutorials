{
 "cells": [
  {
   "cell_type": "markdown",
   "metadata": {},
   "source": [
    "# Thai2Vec Embeddings Examples\n",
    "\n",
    "We use the embeddings from `v0.1` since it was trained specifically for word2vec as opposed to latter versions which garner to classification. The `thai2vec.bin` 51,556 word embeddings of 300 dimensions, in descending order by their frequencies (See `thai2vec.vocab`). The files are in word2vec format readable by `gensim`. Most common applications include word vector visualization, word arithmetic, word grouping, cosine similarity and sentence or document vectors. For sample code, see `thwiki_lm/word2vec_examples.ipynb`."
   ]
  },
  {
   "cell_type": "markdown",
   "metadata": {},
   "source": [
    "## Imports"
   ]
  },
  {
   "cell_type": "code",
   "execution_count": null,
   "metadata": {},
   "outputs": [],
   "source": [
    "# #uncomment if you are running from google colab\n",
    "# !pip install sklearn_crfsuite\n",
    "# !pip install https://github.com/PyThaiNLP/pythainlp/archive/dev.zip\n",
    "# !pip install fastai==1.0.46\n",
    "# !pip install emoji"
   ]
  },
  {
   "cell_type": "code",
   "execution_count": 2,
   "metadata": {
    "ExecuteTime": {
     "end_time": "2018-01-28T04:55:05.294165Z",
     "start_time": "2018-01-28T04:55:05.203078Z"
    }
   },
   "outputs": [
    {
     "name": "stdout",
     "output_type": "stream",
     "text": [
      "Download: thai2fit_wv\n",
      "thai2fit_wv 0.1\n"
     ]
    },
    {
     "name": "stderr",
     "output_type": "stream",
     "text": [
      "thai2vec.bin?dl=1: 62.5MB [00:15, 4.09MB/s]                            \n"
     ]
    }
   ],
   "source": [
    "%reload_ext autoreload\n",
    "%autoreload 2\n",
    "%matplotlib inline\n",
    "\n",
    "from pythainlp.tokenize import word_tokenize\n",
    "from gensim.models import KeyedVectors\n",
    "import numpy as np\n",
    "\n",
    "from sklearn.manifold import TSNE\n",
    "import matplotlib.pyplot as plt\n",
    "import matplotlib.font_manager as fm\n",
    "\n",
    "import dill as pickle\n",
    "import pandas as pd\n",
    "\n",
    "model_path = 'thwiki_data/models/'"
   ]
  },
  {
   "cell_type": "code",
   "execution_count": 3,
   "metadata": {},
   "outputs": [],
   "source": [
    "#load into gensim\n",
    "# model = KeyedVectors.load_word2vec_format(f'{model_path}thai2vec.bin',binary=True)\n",
    "from pythainlp import word_vector\n",
    "model = word_vector.get_model()"
   ]
  },
  {
   "cell_type": "code",
   "execution_count": 4,
   "metadata": {
    "ExecuteTime": {
     "end_time": "2018-01-28T04:58:27.057401Z",
     "start_time": "2018-01-28T04:58:09.721798Z"
    }
   },
   "outputs": [
    {
     "data": {
      "text/html": [
       "<div>\n",
       "<style scoped>\n",
       "    .dataframe tbody tr th:only-of-type {\n",
       "        vertical-align: middle;\n",
       "    }\n",
       "\n",
       "    .dataframe tbody tr th {\n",
       "        vertical-align: top;\n",
       "    }\n",
       "\n",
       "    .dataframe thead th {\n",
       "        text-align: right;\n",
       "    }\n",
       "</style>\n",
       "<table border=\"1\" class=\"dataframe\">\n",
       "  <thead>\n",
       "    <tr style=\"text-align: right;\">\n",
       "      <th></th>\n",
       "      <th>0</th>\n",
       "      <th>1</th>\n",
       "      <th>2</th>\n",
       "      <th>3</th>\n",
       "      <th>4</th>\n",
       "      <th>5</th>\n",
       "      <th>6</th>\n",
       "      <th>7</th>\n",
       "      <th>8</th>\n",
       "      <th>9</th>\n",
       "      <th>...</th>\n",
       "      <th>290</th>\n",
       "      <th>291</th>\n",
       "      <th>292</th>\n",
       "      <th>293</th>\n",
       "      <th>294</th>\n",
       "      <th>295</th>\n",
       "      <th>296</th>\n",
       "      <th>297</th>\n",
       "      <th>298</th>\n",
       "      <th>299</th>\n",
       "    </tr>\n",
       "  </thead>\n",
       "  <tbody>\n",
       "    <tr>\n",
       "      <th>ที่</th>\n",
       "      <td>0.308956</td>\n",
       "      <td>-0.097699</td>\n",
       "      <td>0.116745</td>\n",
       "      <td>0.215612</td>\n",
       "      <td>0.015768</td>\n",
       "      <td>-0.064163</td>\n",
       "      <td>0.062168</td>\n",
       "      <td>0.039649</td>\n",
       "      <td>0.864940</td>\n",
       "      <td>0.846904</td>\n",
       "      <td>...</td>\n",
       "      <td>-0.142418</td>\n",
       "      <td>0.033241</td>\n",
       "      <td>0.171581</td>\n",
       "      <td>-0.624864</td>\n",
       "      <td>-0.009358</td>\n",
       "      <td>0.449131</td>\n",
       "      <td>0.120130</td>\n",
       "      <td>-0.122195</td>\n",
       "      <td>-0.450617</td>\n",
       "      <td>-0.071318</td>\n",
       "    </tr>\n",
       "    <tr>\n",
       "      <th>และ</th>\n",
       "      <td>0.010751</td>\n",
       "      <td>-0.618971</td>\n",
       "      <td>0.129665</td>\n",
       "      <td>0.035460</td>\n",
       "      <td>-0.007560</td>\n",
       "      <td>0.027607</td>\n",
       "      <td>0.397824</td>\n",
       "      <td>0.026543</td>\n",
       "      <td>0.254075</td>\n",
       "      <td>0.168328</td>\n",
       "      <td>...</td>\n",
       "      <td>-0.105786</td>\n",
       "      <td>0.180930</td>\n",
       "      <td>-0.101630</td>\n",
       "      <td>0.070885</td>\n",
       "      <td>-0.037263</td>\n",
       "      <td>0.183606</td>\n",
       "      <td>-0.049088</td>\n",
       "      <td>-0.672288</td>\n",
       "      <td>-1.293044</td>\n",
       "      <td>0.592576</td>\n",
       "    </tr>\n",
       "    <tr>\n",
       "      <th>เป็น</th>\n",
       "      <td>-0.015736</td>\n",
       "      <td>-0.258926</td>\n",
       "      <td>0.052953</td>\n",
       "      <td>0.153728</td>\n",
       "      <td>-0.005985</td>\n",
       "      <td>-0.021081</td>\n",
       "      <td>0.041088</td>\n",
       "      <td>0.057312</td>\n",
       "      <td>1.633230</td>\n",
       "      <td>0.442729</td>\n",
       "      <td>...</td>\n",
       "      <td>-0.009408</td>\n",
       "      <td>-0.252576</td>\n",
       "      <td>-0.305512</td>\n",
       "      <td>0.372542</td>\n",
       "      <td>0.049151</td>\n",
       "      <td>0.568470</td>\n",
       "      <td>0.266586</td>\n",
       "      <td>0.400800</td>\n",
       "      <td>-0.784650</td>\n",
       "      <td>0.197369</td>\n",
       "    </tr>\n",
       "    <tr>\n",
       "      <th>ของ</th>\n",
       "      <td>-0.189711</td>\n",
       "      <td>-0.174774</td>\n",
       "      <td>0.171124</td>\n",
       "      <td>-0.186771</td>\n",
       "      <td>0.054294</td>\n",
       "      <td>-0.114150</td>\n",
       "      <td>-1.109456</td>\n",
       "      <td>-0.094466</td>\n",
       "      <td>-0.447015</td>\n",
       "      <td>0.042377</td>\n",
       "      <td>...</td>\n",
       "      <td>-0.168676</td>\n",
       "      <td>-0.148738</td>\n",
       "      <td>0.680404</td>\n",
       "      <td>0.097702</td>\n",
       "      <td>0.020270</td>\n",
       "      <td>0.182967</td>\n",
       "      <td>-0.083949</td>\n",
       "      <td>0.006287</td>\n",
       "      <td>-0.707434</td>\n",
       "      <td>-0.070234</td>\n",
       "    </tr>\n",
       "    <tr>\n",
       "      <th>มี</th>\n",
       "      <td>-0.156962</td>\n",
       "      <td>-0.231863</td>\n",
       "      <td>0.080312</td>\n",
       "      <td>0.323157</td>\n",
       "      <td>0.215695</td>\n",
       "      <td>0.055145</td>\n",
       "      <td>0.420794</td>\n",
       "      <td>0.016842</td>\n",
       "      <td>0.256759</td>\n",
       "      <td>0.832864</td>\n",
       "      <td>...</td>\n",
       "      <td>-0.044267</td>\n",
       "      <td>-0.147186</td>\n",
       "      <td>-0.105424</td>\n",
       "      <td>0.907078</td>\n",
       "      <td>0.009299</td>\n",
       "      <td>0.550953</td>\n",
       "      <td>0.139337</td>\n",
       "      <td>0.031696</td>\n",
       "      <td>-0.670379</td>\n",
       "      <td>-0.008048</td>\n",
       "    </tr>\n",
       "    <tr>\n",
       "      <th>ได้</th>\n",
       "      <td>-0.428813</td>\n",
       "      <td>-0.031194</td>\n",
       "      <td>0.041922</td>\n",
       "      <td>-0.036608</td>\n",
       "      <td>-0.008106</td>\n",
       "      <td>0.076470</td>\n",
       "      <td>-0.782270</td>\n",
       "      <td>0.033361</td>\n",
       "      <td>0.606864</td>\n",
       "      <td>0.440520</td>\n",
       "      <td>...</td>\n",
       "      <td>0.024458</td>\n",
       "      <td>-0.025031</td>\n",
       "      <td>0.103389</td>\n",
       "      <td>-0.078255</td>\n",
       "      <td>0.034323</td>\n",
       "      <td>0.459774</td>\n",
       "      <td>-0.748643</td>\n",
       "      <td>0.337775</td>\n",
       "      <td>-0.487408</td>\n",
       "      <td>-0.511535</td>\n",
       "    </tr>\n",
       "    <tr>\n",
       "      <th>\"\"\"\"</th>\n",
       "      <td>-0.287710</td>\n",
       "      <td>0.064193</td>\n",
       "      <td>0.205076</td>\n",
       "      <td>0.146356</td>\n",
       "      <td>-0.071343</td>\n",
       "      <td>-0.039451</td>\n",
       "      <td>-1.845461</td>\n",
       "      <td>0.163763</td>\n",
       "      <td>1.018096</td>\n",
       "      <td>0.272786</td>\n",
       "      <td>...</td>\n",
       "      <td>0.051024</td>\n",
       "      <td>-0.532856</td>\n",
       "      <td>-0.131856</td>\n",
       "      <td>-0.090323</td>\n",
       "      <td>-0.058895</td>\n",
       "      <td>0.151262</td>\n",
       "      <td>-0.420358</td>\n",
       "      <td>0.055971</td>\n",
       "      <td>-0.930814</td>\n",
       "      <td>0.163908</td>\n",
       "    </tr>\n",
       "    <tr>\n",
       "      <th>การ</th>\n",
       "      <td>0.239587</td>\n",
       "      <td>-0.303620</td>\n",
       "      <td>0.079953</td>\n",
       "      <td>-0.453045</td>\n",
       "      <td>-0.528826</td>\n",
       "      <td>-0.161692</td>\n",
       "      <td>0.235725</td>\n",
       "      <td>-0.099673</td>\n",
       "      <td>0.691668</td>\n",
       "      <td>0.536159</td>\n",
       "      <td>...</td>\n",
       "      <td>-0.110436</td>\n",
       "      <td>-0.297495</td>\n",
       "      <td>-0.217414</td>\n",
       "      <td>0.045158</td>\n",
       "      <td>0.066647</td>\n",
       "      <td>0.190095</td>\n",
       "      <td>-0.304333</td>\n",
       "      <td>-0.724927</td>\n",
       "      <td>-0.995488</td>\n",
       "      <td>-0.716609</td>\n",
       "    </tr>\n",
       "    <tr>\n",
       "      <th>(</th>\n",
       "      <td>-0.120522</td>\n",
       "      <td>-0.355783</td>\n",
       "      <td>0.168180</td>\n",
       "      <td>-0.377733</td>\n",
       "      <td>-0.158624</td>\n",
       "      <td>-0.047249</td>\n",
       "      <td>0.361140</td>\n",
       "      <td>0.161460</td>\n",
       "      <td>0.913314</td>\n",
       "      <td>0.345037</td>\n",
       "      <td>...</td>\n",
       "      <td>0.116285</td>\n",
       "      <td>-0.318218</td>\n",
       "      <td>-0.356664</td>\n",
       "      <td>0.519889</td>\n",
       "      <td>0.130475</td>\n",
       "      <td>0.125772</td>\n",
       "      <td>0.101328</td>\n",
       "      <td>-0.382658</td>\n",
       "      <td>-1.205359</td>\n",
       "      <td>0.340139</td>\n",
       "    </tr>\n",
       "    <tr>\n",
       "      <th>)</th>\n",
       "      <td>-0.086848</td>\n",
       "      <td>-0.155231</td>\n",
       "      <td>0.133015</td>\n",
       "      <td>-0.039913</td>\n",
       "      <td>0.183761</td>\n",
       "      <td>0.115142</td>\n",
       "      <td>-1.940854</td>\n",
       "      <td>-0.066565</td>\n",
       "      <td>-2.399744</td>\n",
       "      <td>0.146722</td>\n",
       "      <td>...</td>\n",
       "      <td>0.019406</td>\n",
       "      <td>-0.181474</td>\n",
       "      <td>0.099863</td>\n",
       "      <td>0.516092</td>\n",
       "      <td>0.201697</td>\n",
       "      <td>0.249139</td>\n",
       "      <td>0.252957</td>\n",
       "      <td>1.138815</td>\n",
       "      <td>-0.018209</td>\n",
       "      <td>0.232265</td>\n",
       "    </tr>\n",
       "  </tbody>\n",
       "</table>\n",
       "<p>10 rows × 300 columns</p>\n",
       "</div>"
      ],
      "text/plain": [
       "           0         1         2         3         4         5         6    \\\n",
       "ที่   0.308956 -0.097699  0.116745  0.215612  0.015768 -0.064163  0.062168   \n",
       "และ   0.010751 -0.618971  0.129665  0.035460 -0.007560  0.027607  0.397824   \n",
       "เป็น -0.015736 -0.258926  0.052953  0.153728 -0.005985 -0.021081  0.041088   \n",
       "ของ  -0.189711 -0.174774  0.171124 -0.186771  0.054294 -0.114150 -1.109456   \n",
       "มี   -0.156962 -0.231863  0.080312  0.323157  0.215695  0.055145  0.420794   \n",
       "ได้  -0.428813 -0.031194  0.041922 -0.036608 -0.008106  0.076470 -0.782270   \n",
       "\"\"\"\" -0.287710  0.064193  0.205076  0.146356 -0.071343 -0.039451 -1.845461   \n",
       "การ   0.239587 -0.303620  0.079953 -0.453045 -0.528826 -0.161692  0.235725   \n",
       "(    -0.120522 -0.355783  0.168180 -0.377733 -0.158624 -0.047249  0.361140   \n",
       ")    -0.086848 -0.155231  0.133015 -0.039913  0.183761  0.115142 -1.940854   \n",
       "\n",
       "           7         8         9    ...       290       291       292  \\\n",
       "ที่   0.039649  0.864940  0.846904  ... -0.142418  0.033241  0.171581   \n",
       "และ   0.026543  0.254075  0.168328  ... -0.105786  0.180930 -0.101630   \n",
       "เป็น  0.057312  1.633230  0.442729  ... -0.009408 -0.252576 -0.305512   \n",
       "ของ  -0.094466 -0.447015  0.042377  ... -0.168676 -0.148738  0.680404   \n",
       "มี    0.016842  0.256759  0.832864  ... -0.044267 -0.147186 -0.105424   \n",
       "ได้   0.033361  0.606864  0.440520  ...  0.024458 -0.025031  0.103389   \n",
       "\"\"\"\"  0.163763  1.018096  0.272786  ...  0.051024 -0.532856 -0.131856   \n",
       "การ  -0.099673  0.691668  0.536159  ... -0.110436 -0.297495 -0.217414   \n",
       "(     0.161460  0.913314  0.345037  ...  0.116285 -0.318218 -0.356664   \n",
       ")    -0.066565 -2.399744  0.146722  ...  0.019406 -0.181474  0.099863   \n",
       "\n",
       "           293       294       295       296       297       298       299  \n",
       "ที่  -0.624864 -0.009358  0.449131  0.120130 -0.122195 -0.450617 -0.071318  \n",
       "และ   0.070885 -0.037263  0.183606 -0.049088 -0.672288 -1.293044  0.592576  \n",
       "เป็น  0.372542  0.049151  0.568470  0.266586  0.400800 -0.784650  0.197369  \n",
       "ของ   0.097702  0.020270  0.182967 -0.083949  0.006287 -0.707434 -0.070234  \n",
       "มี    0.907078  0.009299  0.550953  0.139337  0.031696 -0.670379 -0.008048  \n",
       "ได้  -0.078255  0.034323  0.459774 -0.748643  0.337775 -0.487408 -0.511535  \n",
       "\"\"\"\" -0.090323 -0.058895  0.151262 -0.420358  0.055971 -0.930814  0.163908  \n",
       "การ   0.045158  0.066647  0.190095 -0.304333 -0.724927 -0.995488 -0.716609  \n",
       "(     0.519889  0.130475  0.125772  0.101328 -0.382658 -1.205359  0.340139  \n",
       ")     0.516092  0.201697  0.249139  0.252957  1.138815 -0.018209  0.232265  \n",
       "\n",
       "[10 rows x 300 columns]"
      ]
     },
     "execution_count": 4,
     "metadata": {},
     "output_type": "execute_result"
    }
   ],
   "source": [
    "#create dataframe\n",
    "thai2dict = {}\n",
    "for word in model.index2word:\n",
    "    thai2dict[word] = model[word]\n",
    "thai2vec = pd.DataFrame.from_dict(thai2dict,orient='index')\n",
    "thai2vec.head(10)"
   ]
  },
  {
   "cell_type": "markdown",
   "metadata": {},
   "source": [
    "Using t-SNE, we can compress the 300 dimensions of each word into a 2D plane and plot their relationships."
   ]
  },
  {
   "cell_type": "code",
   "execution_count": 7,
   "metadata": {
    "ExecuteTime": {
     "end_time": "2018-01-26T02:35:36.291285Z",
     "start_time": "2018-01-26T02:35:36.264520Z"
    }
   },
   "outputs": [],
   "source": [
    "labels = model.index2word\n",
    "\n",
    "# #tnse\n",
    "# tsne = TSNE(n_components=2, init='pca', n_iter=1000)\n",
    "# thai2plot = tsne.fit_transform(thai2vec)\n",
    "# pickle.dump(thai2plot,open(f'{model_path}thai2plot.pkl','wb'))\n",
    "\n",
    "thai2plot = pickle.load(open(f'{model_path}thai2plot.pkl','rb'))"
   ]
  },
  {
   "cell_type": "code",
   "execution_count": 8,
   "metadata": {},
   "outputs": [],
   "source": [
    "labels[:10]"
   ]
  },
  {
   "cell_type": "code",
   "execution_count": 33,
   "metadata": {
    "ExecuteTime": {
     "end_time": "2018-01-26T02:35:39.610920Z",
     "start_time": "2018-01-26T02:35:38.469383Z"
    }
   },
   "outputs": [
    {
     "data": {
      "image/png": "[encoded data removed]",
      "text/plain": [
       "<Figure size 720x720 with 1 Axes>"
      ]
     },
     "metadata": {
      "needs_background": "light"
     },
     "output_type": "display_data"
    }
   ],
   "source": [
    "#stolen from https://blog.manash.me/how-to-use-pre-trained-word-vectors-from-facebooks-fasttext-a71e6d55f27\n",
    "def plot_with_labels(low_dim_embs, labels, filename=None, figsize=(10,10),\n",
    "                    axis_lims = None):\n",
    "    assert low_dim_embs.shape[0] >= len(labels), \"More labels than embeddings\"\n",
    "    plt.figure(figsize=figsize)  # in inches\n",
    "    for i, label in enumerate(labels):\n",
    "        x, y = low_dim_embs[i, :]\n",
    "        plt.scatter(x, y)\n",
    "        prop = fm.FontProperties(fname=f'THSarabunNew.ttf',size=20)\n",
    "        plt.annotate(label,\n",
    "                 fontproperties=prop,\n",
    "                 xy=(x, y),\n",
    "                 xytext=(5, 2),\n",
    "                 textcoords='offset points',\n",
    "                 ha='right',\n",
    "                 va='bottom')\n",
    "    if axis_lims is not None: plt.axis(axis_lims)\n",
    "    if filename: plt.savefig(filename)\n",
    "    \n",
    "plot_with_labels(thai2plot[200:500],labels[200:500],axis_lims = [0,30,0,30])"
   ]
  },
  {
   "cell_type": "markdown",
   "metadata": {},
   "source": [
    "## Word Arithmetic"
   ]
  },
  {
   "cell_type": "markdown",
   "metadata": {},
   "source": [
    "You can do simple \"arithmetic\" with words based on the word vectors such as:\n",
    "* ผู้หญิง + พระราชา - ผู้ชาย = พระราชินี\n",
    "* นายกรัฐมนตรี - อำนาจ = ประธานาธิบดี\n",
    "* กิ้งก่า + โบราณ = ไดโนเสาร์"
   ]
  },
  {
   "cell_type": "code",
   "execution_count": 34,
   "metadata": {
    "ExecuteTime": {
     "end_time": "2018-01-25T08:48:16.434798Z",
     "start_time": "2018-01-25T08:48:16.312043Z"
    }
   },
   "outputs": [
    {
     "data": {
      "text/plain": [
       "[('พระราชินี', 0.7954867482185364),\n",
       " ('กษัตริย์', 0.7382755279541016),\n",
       " ('พระเจ้า', 0.7046602368354797),\n",
       " ('เจ้าชาย', 0.6979373097419739),\n",
       " ('พระมหากษัตริย์', 0.6972416639328003),\n",
       " ('เจ้าฟ้าหญิง', 0.6871017217636108),\n",
       " ('พระเจ้าแผ่นดิน', 0.6827988624572754),\n",
       " ('พระพุทธเจ้า', 0.671796977519989),\n",
       " ('มกุฎราชกุมาร', 0.6711805462837219),\n",
       " ('นายพล', 0.6694187521934509)]"
      ]
     },
     "execution_count": 34,
     "metadata": {},
     "output_type": "execute_result"
    }
   ],
   "source": [
    "#word arithmetic\n",
    "model.most_similar_cosmul(positive=['พระราชา','ผู้หญิง'], negative=['ผู้ชาย'])"
   ]
  },
  {
   "cell_type": "code",
   "execution_count": 35,
   "metadata": {
    "ExecuteTime": {
     "end_time": "2018-01-25T08:48:18.493511Z",
     "start_time": "2018-01-25T08:48:18.104736Z"
    }
   },
   "outputs": [
    {
     "data": {
      "image/png": "[encoded data removed]",
      "text/plain": [
       "<Figure size 720x720 with 1 Axes>"
      ]
     },
     "metadata": {
      "needs_background": "light"
     },
     "output_type": "display_data"
    }
   ],
   "source": [
    "sample_words = ['ผู้หญิง','พระราชา','ผู้ชาย','พระราชินี']\n",
    "sample_idx = []\n",
    "for word in sample_words:\n",
    "    sample_idx.append(labels.index(word))\n",
    "sample_plot = thai2plot[sample_idx]\n",
    "plot_with_labels(sample_plot,sample_words)"
   ]
  },
  {
   "cell_type": "code",
   "execution_count": 37,
   "metadata": {
    "ExecuteTime": {
     "end_time": "2018-01-25T08:48:50.851735Z",
     "start_time": "2018-01-25T08:48:50.731913Z"
    }
   },
   "outputs": [
    {
     "data": {
      "text/plain": [
       "[('รองนายกรัฐมนตรี', 1.4945054054260254),\n",
       " ('รัฐมนตรี', 1.400755763053894),\n",
       " ('ประธานาธิบดี', 1.3626699447631836),\n",
       " ('พันเอก', 1.3437265157699585),\n",
       " ('ผู้บัญชาการทหารบก', 1.3405414819717407),\n",
       " ('ผู้กำกับภาพยนตร์', 1.3339321613311768),\n",
       " ('นักฟุตบอล', 1.331659197807312),\n",
       " ('เอกอัครราชทูต', 1.3306005001068115),\n",
       " ('แห้ง', 1.3243674039840698),\n",
       " ('สุภาพสตรี', 1.3231494426727295)]"
      ]
     },
     "execution_count": 37,
     "metadata": {},
     "output_type": "execute_result"
    }
   ],
   "source": [
    "model.most_similar_cosmul(positive=['นายกรัฐมนตรี'],negative=['อำนาจ'])"
   ]
  },
  {
   "cell_type": "code",
   "execution_count": 38,
   "metadata": {
    "ExecuteTime": {
     "end_time": "2018-01-25T08:48:51.481402Z",
     "start_time": "2018-01-25T08:48:51.158689Z"
    }
   },
   "outputs": [
    {
     "data": {
      "image/png": "[encoded data removed]",
      "text/plain": [
       "<Figure size 720x720 with 1 Axes>"
      ]
     },
     "metadata": {
      "needs_background": "light"
     },
     "output_type": "display_data"
    }
   ],
   "source": [
    "sample_words = ['นายกรัฐมนตรี','อำนาจ','รองนายกรัฐมนตรี']\n",
    "sample_idx = []\n",
    "for word in sample_words:\n",
    "    sample_idx.append(labels.index(word))\n",
    "sample_plot = thai2plot[sample_idx]\n",
    "plot_with_labels(sample_plot,sample_words)"
   ]
  },
  {
   "cell_type": "code",
   "execution_count": 39,
   "metadata": {
    "ExecuteTime": {
     "end_time": "2018-01-25T08:49:11.465639Z",
     "start_time": "2018-01-25T08:49:11.336707Z"
    }
   },
   "outputs": [
    {
     "data": {
      "text/plain": [
       "[('สิ่งมีชีวิต', 0.537461519241333),\n",
       " ('สัตว์เลี้ยงลูกด้วยนม', 0.5080005526542664),\n",
       " ('แมลง', 0.5048903226852417),\n",
       " ('ผลไม้', 0.4839756190776825),\n",
       " ('มนุษย์', 0.47641509771347046),\n",
       " ('ผัก', 0.46431201696395874),\n",
       " ('สัตว์น้ำ', 0.45941096544265747),\n",
       " ('ต้นไม้', 0.45185261964797974),\n",
       " ('พันธุ์ไม้', 0.4504697620868683),\n",
       " ('ไม้ยืนต้น', 0.44425833225250244)]"
      ]
     },
     "execution_count": 39,
     "metadata": {},
     "output_type": "execute_result"
    }
   ],
   "source": [
    "#word arithmetic\n",
    "model.most_similar_cosmul(positive=['สัตว์','พืช'], negative=[])"
   ]
  },
  {
   "cell_type": "code",
   "execution_count": 40,
   "metadata": {
    "ExecuteTime": {
     "end_time": "2018-01-25T08:49:12.202620Z",
     "start_time": "2018-01-25T08:49:11.835817Z"
    }
   },
   "outputs": [
    {
     "data": {
      "image/png": "[encoded data removed]",
      "text/plain": [
       "<Figure size 720x720 with 1 Axes>"
      ]
     },
     "metadata": {
      "needs_background": "light"
     },
     "output_type": "display_data"
    }
   ],
   "source": [
    "sample_words = ['สัตว์','พืช','สิ่งมีชีวิต']\n",
    "sample_idx = []\n",
    "for word in sample_words:\n",
    "    sample_idx.append(labels.index(word))\n",
    "sample_plot = thai2plot[sample_idx]\n",
    "plot_with_labels(sample_plot,sample_words)"
   ]
  },
  {
   "cell_type": "markdown",
   "metadata": {
    "heading_collapsed": true
   },
   "source": [
    "## Doesn't Match"
   ]
  },
  {
   "cell_type": "markdown",
   "metadata": {
    "hidden": true
   },
   "source": [
    "It can also be used to do word groupings. For instance:\n",
    "* อาหารเช้า อาหารสัตว์ อาหารเย็น อาหารกลางวัน - อาหารสัตว์ is type of food whereas others are meals in the day\n",
    "* ลาก ดึง ดูด ดัน - ดัน is pushing while the rest is pulling.\n",
    "* กด กัด กิน เคี้ยว - กด is not verbs for the eating process\n",
    "Note that this could be relying on a different \"take\" than you would expect. For example, you could have answered ลูกเขย in the second example because it  is the one associated with male gender."
   ]
  },
  {
   "cell_type": "code",
   "execution_count": 41,
   "metadata": {
    "ExecuteTime": {
     "end_time": "2018-01-26T02:35:24.619900Z",
     "start_time": "2018-01-26T02:35:24.505717Z"
    },
    "hidden": true
   },
   "outputs": [
    {
     "name": "stderr",
     "output_type": "stream",
     "text": [
      "/usr/local/lib/python3.6/dist-packages/gensim/models/keyedvectors.py:858: FutureWarning: arrays to stack must be passed as a \"sequence\" type such as list or tuple. Support for non-sequence iterables such as generators is deprecated as of NumPy 1.16 and will raise an error in the future.\n",
      "  vectors = vstack(self.word_vec(word, use_norm=True) for word in used_words).astype(REAL)\n"
     ]
    },
    {
     "data": {
      "text/plain": [
       "'อาหารสัตว์'"
      ]
     },
     "execution_count": 41,
     "metadata": {},
     "output_type": "execute_result"
    }
   ],
   "source": [
    "model.doesnt_match(\"อาหารเช้า อาหารสัตว์ อาหารเย็น อาหารกลางวัน\".split())"
   ]
  },
  {
   "cell_type": "code",
   "execution_count": 42,
   "metadata": {
    "ExecuteTime": {
     "end_time": "2018-01-26T02:35:46.163075Z",
     "start_time": "2018-01-26T02:35:45.838017Z"
    },
    "hidden": true
   },
   "outputs": [
    {
     "data": {
      "image/png": "[encoded data removed]",
      "text/plain": [
       "<Figure size 720x720 with 1 Axes>"
      ]
     },
     "metadata": {
      "needs_background": "light"
     },
     "output_type": "display_data"
    }
   ],
   "source": [
    "sample_words = \"อาหารเช้า อาหารสัตว์ อาหารเย็น อาหารกลางวัน\".split()\n",
    "sample_idx = []\n",
    "for word in sample_words:\n",
    "    sample_idx.append(labels.index(word))\n",
    "sample_plot = thai2plot[sample_idx]\n",
    "plot_with_labels(sample_plot,sample_words)"
   ]
  },
  {
   "cell_type": "code",
   "execution_count": 43,
   "metadata": {
    "ExecuteTime": {
     "end_time": "2018-01-25T09:03:55.915881Z",
     "start_time": "2018-01-25T09:03:55.811980Z"
    },
    "hidden": true
   },
   "outputs": [
    {
     "data": {
      "text/plain": [
       "'ดัน'"
      ]
     },
     "execution_count": 43,
     "metadata": {},
     "output_type": "execute_result"
    }
   ],
   "source": [
    "model.doesnt_match(\"ลาก ดึง ดูด ดัน\".split())"
   ]
  },
  {
   "cell_type": "code",
   "execution_count": 44,
   "metadata": {
    "ExecuteTime": {
     "end_time": "2018-01-25T09:03:57.111707Z",
     "start_time": "2018-01-25T09:03:56.766901Z"
    },
    "hidden": true
   },
   "outputs": [
    {
     "data": {
      "image/png": "[encoded data removed]",
      "text/plain": [
       "<Figure size 720x720 with 1 Axes>"
      ]
     },
     "metadata": {
      "needs_background": "light"
     },
     "output_type": "display_data"
    }
   ],
   "source": [
    "sample_words = \"ลาก ดึง ดูด ดัน\".split()\n",
    "sample_idx = []\n",
    "for word in sample_words:\n",
    "    sample_idx.append(labels.index(word))\n",
    "sample_plot = thai2plot[sample_idx]\n",
    "plot_with_labels(sample_plot,sample_words)"
   ]
  },
  {
   "cell_type": "code",
   "execution_count": 45,
   "metadata": {
    "ExecuteTime": {
     "end_time": "2018-01-25T09:00:04.040459Z",
     "start_time": "2018-01-25T09:00:03.917290Z"
    },
    "hidden": true
   },
   "outputs": [
    {
     "data": {
      "text/plain": [
       "'หมอ'"
      ]
     },
     "execution_count": 45,
     "metadata": {},
     "output_type": "execute_result"
    }
   ],
   "source": [
    "model.doesnt_match(\"แมว หมา หมู หมอ\".split())"
   ]
  },
  {
   "cell_type": "code",
   "execution_count": 46,
   "metadata": {
    "ExecuteTime": {
     "end_time": "2018-01-25T09:00:23.186752Z",
     "start_time": "2018-01-25T09:00:22.875191Z"
    },
    "hidden": true
   },
   "outputs": [
    {
     "data": {
      "image/png": "[encoded data removed]",
      "text/plain": [
       "<Figure size 720x720 with 1 Axes>"
      ]
     },
     "metadata": {
      "needs_background": "light"
     },
     "output_type": "display_data"
    }
   ],
   "source": [
    "sample_words = \"แมว หมา หมู หมอ\".split()\n",
    "sample_idx = []\n",
    "for word in sample_words:\n",
    "    sample_idx.append(labels.index(word))\n",
    "sample_plot = thai2plot[sample_idx]\n",
    "plot_with_labels(sample_plot,sample_words)"
   ]
  },
  {
   "cell_type": "markdown",
   "metadata": {},
   "source": [
    "## Cosine Similarity"
   ]
  },
  {
   "cell_type": "code",
   "execution_count": 47,
   "metadata": {
    "ExecuteTime": {
     "end_time": "2018-01-25T08:49:26.327610Z",
     "start_time": "2018-01-25T08:49:26.219002Z"
    }
   },
   "outputs": [
    {
     "name": "stdout",
     "output_type": "stream",
     "text": [
      "China + Beijing: 0.3135956\n",
      "Italy + Rome: 0.42819628\n",
      "Beijing + Rome: 0.27347285\n",
      "Italy + Beijing: 0.17900795\n",
      "China + Rome: 0.02666693\n",
      "China + Italy: 0.24352394\n"
     ]
    }
   ],
   "source": [
    "print('China + Beijing:', model.similarity('ปักกิ่ง', 'จีน'))\n",
    "print('Italy + Rome:', model.similarity('โรม','อิตาลี'))\n",
    "print('Beijing + Rome:', model.similarity('โรม', 'ปักกิ่ง'))\n",
    "print('Italy + Beijing:', model.similarity('ปักกิ่ง', 'อิตาลี'))\n",
    "print('China + Rome:', model.similarity('โรม','จีน'))\n",
    "print('China + Italy:', model.similarity('อิตาลี','จีน'))"
   ]
  },
  {
   "cell_type": "code",
   "execution_count": 48,
   "metadata": {
    "ExecuteTime": {
     "end_time": "2018-01-25T08:55:58.556210Z",
     "start_time": "2018-01-25T08:55:58.223988Z"
    }
   },
   "outputs": [
    {
     "data": {
      "image/png": "[encoded data removed]",
      "text/plain": [
       "<Figure size 720x720 with 1 Axes>"
      ]
     },
     "metadata": {
      "needs_background": "light"
     },
     "output_type": "display_data"
    }
   ],
   "source": [
    "sample_words = \"ปักกิ่ง จีน โรม อิตาลี โตเกียว ญี่ปุ่น\".split()\n",
    "sample_idx = []\n",
    "for word in sample_words:\n",
    "    sample_idx.append(labels.index(word))\n",
    "sample_plot = thai2plot[sample_idx]\n",
    "plot_with_labels(sample_plot,sample_words)"
   ]
  },
  {
   "cell_type": "markdown",
   "metadata": {},
   "source": [
    "## Spellchecking"
   ]
  },
  {
   "cell_type": "markdown",
   "metadata": {},
   "source": [
    "Originally contributed by [Sakares ATV](https://github.com/sakares), adapted from [Kaggle Spell Checker using Word2vec by CPMP](https://www.kaggle.com/cpmpml/spell-checker-using-word2vec)."
   ]
  },
  {
   "cell_type": "code",
   "execution_count": 34,
   "metadata": {},
   "outputs": [],
   "source": [
    "words = model.index2word\n",
    "\n",
    "w_rank = {}\n",
    "for i,word in enumerate(words):\n",
    "    w_rank[word] = i\n",
    "\n",
    "WORDS = w_rank"
   ]
  },
  {
   "cell_type": "code",
   "execution_count": 35,
   "metadata": {},
   "outputs": [],
   "source": [
    "thai_letters = 'กขฃคฅฆงจฉชซฌญฎฏฐฑฒณดตถทธนบปผฝพฟภมยรฤฤๅลฦฦๅวศษสหฬอฮะัาำิีึืุูเแโใไ็่้๊๋์'\n",
    "\n",
    "def words(text): return re.findall(r'\\w+', text.lower())\n",
    "\n",
    "def P(word): \n",
    "    \"Probability of `word`.\"\n",
    "    # use inverse of rank as proxy\n",
    "    # returns 0 if the word isn't in the dictionary\n",
    "    return - WORDS.get(word, 0)\n",
    "\n",
    "def correction(word): \n",
    "    \"Most probable spelling correction for word.\"\n",
    "    return max(candidates(word), key=P)\n",
    "\n",
    "def candidates(word): \n",
    "    \"Generate possible spelling corrections for word.\"\n",
    "    return (known([word]) or known(edits1(word)) or known(edits2(word)) or [word])\n",
    "\n",
    "def known(words): \n",
    "    \"The subset of `words` that appear in the dictionary of WORDS.\"\n",
    "    return set(w for w in words if w in WORDS)\n",
    "\n",
    "def edits1(word):\n",
    "    \"All edits that are one edit away from `word`.\"\n",
    "    letters    = thai_letters\n",
    "    splits     = [(word[:i], word[i:])    for i in range(len(word) + 1)]\n",
    "    deletes    = [L + R[1:]               for L, R in splits if R]\n",
    "    transposes = [L + R[1] + R[0] + R[2:] for L, R in splits if len(R)>1]\n",
    "    replaces   = [L + c + R[1:]           for L, R in splits if R for c in letters]\n",
    "    inserts    = [L + c + R               for L, R in splits for c in letters]\n",
    "    return set(deletes + transposes + replaces + inserts)\n",
    "\n",
    "def edits2(word): \n",
    "    \"All edits that are two edits away from `word`.\"\n",
    "    return (e2 for e1 in edits1(word) for e2 in edits1(e1))"
   ]
  },
  {
   "cell_type": "code",
   "execution_count": 36,
   "metadata": {},
   "outputs": [
    {
     "data": {
      "text/plain": [
       "'พัฒนา'"
      ]
     },
     "execution_count": 36,
     "metadata": {},
     "output_type": "execute_result"
    }
   ],
   "source": [
    "correction('พัดนา')"
   ]
  },
  {
   "cell_type": "code",
   "execution_count": 37,
   "metadata": {},
   "outputs": [
    {
     "data": {
      "text/plain": [
       "'จริง'"
      ]
     },
     "execution_count": 37,
     "metadata": {},
     "output_type": "execute_result"
    }
   ],
   "source": [
    "correction('ขริง')"
   ]
  },
  {
   "cell_type": "code",
   "execution_count": 38,
   "metadata": {},
   "outputs": [
    {
     "data": {
      "text/plain": [
       "'จ้า'"
      ]
     },
     "execution_count": 38,
     "metadata": {},
     "output_type": "execute_result"
    }
   ],
   "source": [
    "correction('จย้า')"
   ]
  },
  {
   "cell_type": "code",
   "execution_count": 39,
   "metadata": {},
   "outputs": [
    {
     "data": {
      "text/plain": [
       "'นะคะ'"
      ]
     },
     "execution_count": 39,
     "metadata": {},
     "output_type": "execute_result"
    }
   ],
   "source": [
    "correction('นะค่ะ')"
   ]
  }
 ],
 "metadata": {
  "kernelspec": {
   "display_name": "Python 3",
   "language": "python",
   "name": "python3"
  },
  "language_info": {
   "codemirror_mode": {
    "name": "ipython",
    "version": 3
   },
   "file_extension": ".py",
   "mimetype": "text/x-python",
   "name": "python",
   "nbconvert_exporter": "python",
   "pygments_lexer": "ipython3",
   "version": "3.6.8"
  }
 },
 "nbformat": 4,
 "nbformat_minor": 2
}
